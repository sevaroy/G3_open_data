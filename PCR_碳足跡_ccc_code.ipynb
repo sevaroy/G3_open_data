{
  "nbformat": 4,
  "nbformat_minor": 0,
  "metadata": {
    "colab": {
      "provenance": [],
      "authorship_tag": "ABX9TyMarucOhIxaqbBe7zQTveHm",
      "include_colab_link": true
    },
    "kernelspec": {
      "name": "python3",
      "display_name": "Python 3"
    },
    "language_info": {
      "name": "python"
    }
  },
  "cells": [
    {
      "cell_type": "markdown",
      "metadata": {
        "id": "view-in-github",
        "colab_type": "text"
      },
      "source": [
        "<a href=\"https://colab.research.google.com/github/sevaroy/G3_open_data/blob/main/PCR_%E7%A2%B3%E8%B6%B3%E8%B7%A1_ccc_code.ipynb\" target=\"_parent\"><img src=\"https://colab.research.google.com/assets/colab-badge.svg\" alt=\"Open In Colab\"/></a>"
      ]
    },
    {
      "cell_type": "code",
      "execution_count": 45,
      "metadata": {
        "colab": {
          "base_uri": "https://localhost:8080/"
        },
        "id": "DAV0DOlqNvOm",
        "outputId": "06916e62-2c31-4c75-8eda-af813675937d"
      },
      "outputs": [
        {
          "output_type": "stream",
          "name": "stdout",
          "text": [
            "0     禽畜、水產動物經前處理及加工萃取作業並在適當溫度儲運販售的萃取液包裝食品。適用本 CFP-P...\n",
            "1     本項文件係供使用於食用動物油脂及其調合油脂的CFP-PCR，產品適用範圍為動物油添加比例≧5...\n",
            "2     適用範圍係指牛、豬、羊、雞、鴨、鵝等 家禽及家畜之加工產品，製造商品分類號列(CCC Cod...\n",
            "3     供家畜禽經養殖、屠宰、分切、調味、運輸，並在適當溫度儲運販售的家畜禽肉及食用雜碎，製造商品分...\n",
            "4                      全球生產與製造之設施栽培植物(CCC Code四碼為0602)。\n",
            "5     具食用性之粉狀及粒狀植物性研磨製品，其產品之最大宗主要原料產品需經研磨製程；CCC Code...\n",
            "6     水產動物經前處理及加工調理作業並在適當溫度儲運販售的包裝食品，包含超低溫冷凍水產品、冷凍水產...\n",
            "7     山茶科山茶屬茶種植物之幼嫩芽葉，依據不同加工製程後之產品，包括不發酵茶、部分發酵茶、全發酵茶...\n",
            "8     包括以加工製作之藻類食品，不論是否切片或為團粒狀者均在內；製造商品分類號列(CCC Code...\n",
            "9     依製造商品分類編號(CCC Code)歸類為1517人造奶油；可食用動植物油脂混合品或調製品...\n",
            "10    本項文件適用產品類別，依製造商品分類編號(CCC Code)歸類為23091供零售用之貓狗食...\n",
            "11    國內外生產製造之食米，CCC Code歸類於1006.30.00.90-7、1006.20....\n",
            "12    利用乾燥或脫水方法來處理新鮮果蔬類園產品，藉由去除部份水分以減少微生物利用之可能性，通常用日...\n",
            "13         CCC Code歸類於0407.00.90.00-0 ，符合國家標準CNS 15147。\n",
            "14    植物原油經脫膠、脫酸、脫色及脫臭等精製加工步驟而成之食用植物油及其調合油，並依衛生福利部相關...\n",
            "15    本項文件適用於奶油（國家標準CNS2877）及乳脂（國家標準CNS2878），依製造商品分類...\n",
            "16    各類肉品(包括海鮮)所製成之丸類食品；CCC Code歸類於其他冷凍去骨牛肉之絞肉(0202...\n",
            "17    食醋及酵素飲品皆是植物性原料經發酵釀造的產品，本項文件係供使用於植物性發酵食醋與飲品的CFP...\n",
            "18    本項文件係供使用於植物性生物質炭化產品的CFP-PCR，包括木、竹，以及農業剩餘資材/廢棄物...\n",
            "19    台灣生產與製造之鮮牛乳(國家標準 CNS 3056)。CCC Code歸類於0401.10....\n",
            "20    本項文件係供使用於蔬菜的CFP-PCR，產品適用範圍包括國內生產栽培經過生鮮、冷藏、冷凍或初...\n",
            "21    非調和油且經壓榨、靜置、過濾或焙炒加工步驟，未經精製加工所得之非調合粗製植物油類產品。CCC...\n",
            "Name: 適用產品範圍, dtype: object\n"
          ]
        }
      ],
      "source": [
        "import pandas as pd\n",
        "file = '/content/未命名的試算表.xlsx'\n",
        "\n",
        "# read text file into pandas DataFrame\n",
        "df = pd.read_excel(file)\n",
        "df = pd.DataFrame(df)\n",
        "\n",
        "# display DataFrame\n",
        "print(df['適用產品範圍'])"
      ]
    },
    {
      "cell_type": "code",
      "source": [
        "import pandas as pd\n",
        "import re\n",
        "\n",
        "def extract_numbers(text):\n",
        "    return re.findall(r'\\d+', text)\n",
        "\n",
        "df['ccc_code'] = df['適用產品範圍'].apply(lambda x: extract_numbers(x))\n",
        "\n",
        "# 將數字抽出並新增一個欄位\n",
        "# df['ccc_code'] = df['適用產品範圍'].str.extract('(\\d+)')\n",
        "\n",
        "# 顯示結果\n",
        "print(df['ccc_code'])"
      ],
      "metadata": {
        "colab": {
          "base_uri": "https://localhost:8080/"
        },
        "id": "zlMuol3ooMGD",
        "outputId": "695b3c29-7344-46fc-8778-e43c0f960335"
      },
      "execution_count": 46,
      "outputs": [
        {
          "output_type": "stream",
          "name": "stdout",
          "text": [
            "0                            [16030000009, 21069099903]\n",
            "1     [50, 1501, 1502, 1503, 1504, 1505, 1506, 1516,...\n",
            "2     [02101900, 02102000, 02109911, 02109912, 02109...\n",
            "3            [0201, 0202, 0203, 0204, 0205, 0206, 0207]\n",
            "4                                                [0602]\n",
            "5                                    [0712, 0901, 0902]\n",
            "6                                                    []\n",
            "7                                                [0902]\n",
            "8                                             [1212, 2]\n",
            "9                                          [1517, 1516]\n",
            "10                                              [23091]\n",
            "11    [1006, 30, 00, 90, 7, 1006, 20, 00, 00, 8, 100...\n",
            "12    [0801, 31, 20, 00, 0, 0801, 32, 20, 00, 9, 080...\n",
            "13                         [0407, 00, 90, 00, 0, 15147]\n",
            "14           [1507, 90, 00, 1508, 90, 00, 1509, 90, 00]\n",
            "15    [2877, 2878, 0405, 04052010005, 75, 80, 040520...\n",
            "16    [0202, 30, 90, 30, 0203, 29, 19, 90, 0205, 00,...\n",
            "17                      [14834, 2377, 2208, 2209, 3507]\n",
            "18              [44021000004, 44029000007, 38249999903]\n",
            "19    [3056, 0401, 10, 10, 00, 1, 0401, 20, 10, 00, ...\n",
            "20                                                   []\n",
            "21           [1507, 10, 00, 1508, 10, 00, 1509, 10, 00]\n",
            "Name: ccc_code, dtype: object\n"
          ]
        }
      ]
    },
    {
      "cell_type": "code",
      "source": [
        "import pandas as pd\n",
        "import re\n",
        "\n",
        "# 假設有一個名為df的dataframe\n",
        "# df = pd.DataFrame({'col1': ['1006.30.00.10-4', 'This is a string', 'Another string']})\n",
        "\n",
        "# 定義正則表示式，用於抓取數字\n",
        "pattern = '[0-9]+[.][0-9]+[.][0-9]+[.][0-9]+[-][0-9]+'\n",
        "\n",
        "# 使用 apply 函數及正則表示式來抓取每一行中的數字\n",
        "df['ccc_code_1'] = df['適用產品範圍'].apply(lambda x: re.findall(pattern, x)[0] if len(re.findall(pattern, x)) else None)\n",
        "\n",
        "print(df[['ccc_code','ccc_code_1']])\n"
      ],
      "metadata": {
        "colab": {
          "base_uri": "https://localhost:8080/"
        },
        "id": "QOJ8IeCrvCpO",
        "outputId": "41c74728-987c-4bd4-d17d-3097b899e700"
      },
      "execution_count": 47,
      "outputs": [
        {
          "output_type": "stream",
          "name": "stdout",
          "text": [
            "                                             ccc_code       ccc_code_1\n",
            "0                          [16030000009, 21069099903]             None\n",
            "1   [50, 1501, 1502, 1503, 1504, 1505, 1506, 1516,...             None\n",
            "2   [02101900, 02102000, 02109911, 02109912, 02109...             None\n",
            "3          [0201, 0202, 0203, 0204, 0205, 0206, 0207]             None\n",
            "4                                              [0602]             None\n",
            "5                                  [0712, 0901, 0902]             None\n",
            "6                                                  []             None\n",
            "7                                              [0902]             None\n",
            "8                                           [1212, 2]             None\n",
            "9                                        [1517, 1516]             None\n",
            "10                                            [23091]             None\n",
            "11  [1006, 30, 00, 90, 7, 1006, 20, 00, 00, 8, 100...  1006.30.00.90-7\n",
            "12  [0801, 31, 20, 00, 0, 0801, 32, 20, 00, 9, 080...  0801.31.20.00-0\n",
            "13                       [0407, 00, 90, 00, 0, 15147]  0407.00.90.00-0\n",
            "14         [1507, 90, 00, 1508, 90, 00, 1509, 90, 00]             None\n",
            "15  [2877, 2878, 0405, 04052010005, 75, 80, 040520...             None\n",
            "16  [0202, 30, 90, 30, 0203, 29, 19, 90, 0205, 00,...             None\n",
            "17                    [14834, 2377, 2208, 2209, 3507]             None\n",
            "18            [44021000004, 44029000007, 38249999903]             None\n",
            "19  [3056, 0401, 10, 10, 00, 1, 0401, 20, 10, 00, ...  0401.10.10.00-1\n",
            "20                                                 []             None\n",
            "21         [1507, 10, 00, 1508, 10, 00, 1509, 10, 00]             None\n"
          ]
        }
      ]
    },
    {
      "cell_type": "code",
      "source": [
        "df.to_excel(('PCR.xlsx'))"
      ],
      "metadata": {
        "id": "TC-0kOlP74E0"
      },
      "execution_count": 48,
      "outputs": []
    },
    {
      "cell_type": "code",
      "source": [
        "import pandas as pd\n",
        "import re\n",
        "\n",
        "# 假設數據源是DataFrame\n",
        "# df = pd.DataFrame({'column': ['16030000009', '1507.10.00', '1006.30.00.10-4', 'Some text without numbers']})\n",
        "\n",
        "# 定義正則表示式以抓取數字\n",
        "pattern = re.compile(r'\\b\\d+[\\d\\.]*\\d+\\b')\n",
        "\n",
        "# 將正則表示式套用到每一行中\n",
        "df['extracted_numbers'] = df['適用產品範圍'].apply(lambda x: ','.join(re.findall(pattern, x)))\n",
        "\n",
        "# 結果\n",
        "print(df['extracted_numbers'])"
      ],
      "metadata": {
        "colab": {
          "base_uri": "https://localhost:8080/"
        },
        "id": "MAYKlBZ3WgBz",
        "outputId": "e52eb1c5-6056-4eef-f38b-c1815e6b5ab9"
      },
      "execution_count": 41,
      "outputs": [
        {
          "output_type": "stream",
          "name": "stdout",
          "text": [
            "0                                                      \n",
            "1              50,1501,1502,1503,1504,1505,1506,1516.10\n",
            "2                                                      \n",
            "3                    0201,0202,0203,0204,0205,0206,0207\n",
            "4                                                      \n",
            "5                                             0901,0902\n",
            "6                                                      \n",
            "7                                                      \n",
            "8                                                      \n",
            "9                                                      \n",
            "10                                                     \n",
            "11                 30.00.90,1006.20.00.00,1006.30.00.10\n",
            "12                 31.20.00,0801.32.20.00,0802.11.20.00\n",
            "13                                       00.90.00,15147\n",
            "14                          90.00,1508.90.00,1509.90.00\n",
            "15                                                     \n",
            "16    0202.30.90.30,0203.29.19.90,0205.00.00.00,0207...\n",
            "17                                  2377,2208,2209,3507\n",
            "18                  44021000004,44029000007,38249999903\n",
            "19    3056,10.10.00,0401.20.10.00,0401.30.10.00,0402...\n",
            "20                                                     \n",
            "21                          10.00,1508.10.00,1509.10.00\n",
            "Name: extracted_numbers, dtype: object\n"
          ]
        }
      ]
    },
    {
      "cell_type": "code",
      "source": [],
      "metadata": {
        "id": "h_5eet9GxDV4"
      },
      "execution_count": null,
      "outputs": []
    }
  ]
}